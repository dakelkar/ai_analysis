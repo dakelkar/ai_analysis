{
 "cells": [
  {
   "cell_type": "code",
   "execution_count": null,
   "id": "b7081522",
   "metadata": {},
   "outputs": [],
   "source": [
    "import pandas as pd\n",
    "import os\n",
    "import glob\n",
    "import re\n",
    "import scipy.cluster\n",
    "\n",
    "\n",
    "class FormatFinalCSV():\n",
    "\n",
    "        def __init__(self, source_dir, file_prefix, output_dir=False):\n",
    "                self.source_dir = source_dir\n",
    "                self.output_dir = output_dir\n",
    "                self.file_prefix = file_prefix\n",
    "\n",
    "\n",
    "        @staticmethod\n",
    "        def format_col_names(df_old_cols):\n",
    "                col_new = [re.sub(r'\\W|[^\\x00-\\x7F]m[^\\x00-\\x7F]', '_',  str.lower(col)) for col in df_old_cols.columns]\n",
    "                col_new = [re.sub('_+', '_', col) for col in col_new]\n",
    "                col_new = [re.sub('_$', '', col) for col in col_new]\n",
    "                df_old_cols.columns = col_new \n",
    "                return df_old_cols\n",
    "        \n",
    "        def get_file_list(self):\n",
    "                dat = glob.glob(f'{self.source_dir}/{self.file_prefix}**/report/{self.file_prefix}**final**sv', recursive=True)\n",
    "                return dat\n",
    "\n",
    "        @staticmethod\n",
    "        def get_final_stats_df(d):\n",
    "                dat_df = pd.read_csv(d, header=0).assign(sample_id = re.split(os.sep, d)[2])\n",
    "                dat_df.columns = ['characteristic','values', 'sample_id']\n",
    "                dat_p = dat_df.pivot(columns='sample_id', values='values',index='characteristic').reset_index()\n",
    "                dat_p.index = dat_p.characteristic\n",
    "                return(dat_p)\n",
    "        \n",
    "        def format_concat_files(self):\n",
    "                dat = self.get_file_list()\n",
    "                if dat:\n",
    "                        datall = pd.concat([self.get_final_stats_df(d) for d in dat], axis = 1).drop(['characteristic'], axis=1)\n",
    "                        dat_all = datall.transpose()\n",
    "                        dat_all.columns = dat_all.columns.to_flat_index()\n",
    "                        dat_all.columns = [f'vesicularirty_{d}' if d in [\"0.5\", \"0.6\", \"0.7\", \"0.8\", \"0.9\"] else d.lower() for d in dat_all.columns]\n",
    "                        dat_all = self.format_col_names(dat_all).reset_index().sort_values('sample_id')\n",
    "                        return dat_all\n",
    "                "
   ]
  },
  {
   "cell_type": "code",
   "execution_count": null,
   "id": "f6612e33",
   "metadata": {},
   "outputs": [],
   "source": [
    "am = FormatFinalCSV(source_dir='./hne_2023_12_01', file_prefix = 'pccm')\n",
    "dat = am.get_file_list()\n",
    "datall = am.format_concat_files()\n",
    "datall.index = datall.sample_id"
   ]
  },
  {
   "cell_type": "code",
   "execution_count": null,
   "id": "17266d32",
   "metadata": {},
   "outputs": [],
   "source": [
    "datall = datall.drop(['sample_id'], axis=1)\n",
    "datall_perc = datall.apply(lambda x: x.str.replace('%', '').astype(float))\n",
    "# datdesc = datall_perc.describe()\n",
    "# datdesc"
   ]
  },
  {
   "cell_type": "code",
   "execution_count": null,
   "id": "ba67e392",
   "metadata": {},
   "outputs": [],
   "source": [
    "datall_perc"
   ]
  },
  {
   "cell_type": "code",
   "execution_count": null,
   "id": "7dfad49e",
   "metadata": {},
   "outputs": [],
   "source": [
    "datall_perc"
   ]
  },
  {
   "cell_type": "code",
   "execution_count": null,
   "id": "7167735d",
   "metadata": {},
   "outputs": [],
   "source": [
    "sns.clustermap(datall_perc, method='centroid', metric='euclidean', z_score=1, row_cluster=True)"
   ]
  },
  {
   "cell_type": "code",
   "execution_count": null,
   "id": "376e9d09",
   "metadata": {},
   "outputs": [],
   "source": [
    "data_dir = 'hne_2023_12_01'\n",
    "file_dir = os.path.join(source_dir, data_dir)"
   ]
  },
  {
   "cell_type": "code",
   "execution_count": null,
   "id": "67fcd1d8",
   "metadata": {},
   "outputs": [],
   "source": [
    "dat = glob.glob(f'{file_dir}/pccm**/report/pccm**final**sv', recursive=True, case=False)"
   ]
  },
  {
   "cell_type": "code",
   "execution_count": null,
   "id": "ec33f96f",
   "metadata": {},
   "outputs": [],
   "source": [
    "def get_final_stats_df(d):\n",
    "    dat_df = pd.read_csv(d, header=0).assign(sample_id = re.split(os.sep, d)[2])\n",
    "    dat_df.columns = ['characteristic','values', 'sample_id']\n",
    "    dat_p = dat_df.pivot(columns='sample_id', values='values',index='characteristic').reset_index()\n",
    "    dat_p.index = dat_p.characteristic\n",
    "    return(dat_p)"
   ]
  },
  {
   "cell_type": "code",
   "execution_count": null,
   "id": "7e6033c8",
   "metadata": {},
   "outputs": [],
   "source": [
    "# datall = pd.concat([get_final_stats_df(d) for d in dat], axis = 1).drop(['characteristic'], axis=1)\n",
    "# dat_all = datall.transpose()\n",
    "# dat_all.columns = dat_all.columns.to_flat_index()\n",
    "# dat_all.columns = [f'vesicularirty_{d}' if d in [\"0.5\", \"0.6\", \"0.7\", \"0.8\", \"0.9\"] else d.lower() for d in dat_all.columns]\n",
    "# dat_all = format_col_names(dat_all)\n",
    "# [d for d in dat_all.columns if re.findall('til',d)]\n"
   ]
  },
  {
   "cell_type": "code",
   "execution_count": null,
   "id": "fc96ac48",
   "metadata": {},
   "outputs": [],
   "source": [
    "get_final_stats_df(dat[0])\n"
   ]
  },
  {
   "cell_type": "code",
   "execution_count": null,
   "id": "5ffece22",
   "metadata": {},
   "outputs": [],
   "source": [
    "get_final_stats_df(dat[4])\n",
    "pd.read_csv(dat[4]); dat[4].split(os.sep)[2]\n",
    "pd.read_csv(dat[2]); dat[2].split(os.sep)"
   ]
  },
  {
   "cell_type": "code",
   "execution_count": null,
   "id": "2502996a",
   "metadata": {},
   "outputs": [],
   "source": [
    "df_datall = dat_all.transpose()\n",
    "df_datall.columns = dat_all.index.tolist()\n",
    "df_datall = format_col_names(df_datall)\n",
    "sample_id = dat_all.index.tolist()\n",
    "# df_datall.index = df_datall.index.droplevel(0)\n",
    "df_datall = df_datall.assign(sample = sample_id).reset_index(inplace=False)\n",
    "# df_datall.to_csv('pccm_amaranth_hne_2023_11_30_dk.csv', sep=',')\n",
    "# df_datall"
   ]
  },
  {
   "cell_type": "code",
   "execution_count": null,
   "id": "4be27781",
   "metadata": {},
   "outputs": [],
   "source": [
    "df_datall"
   ]
  },
  {
   "cell_type": "code",
   "execution_count": null,
   "id": "ec48a6bf",
   "metadata": {},
   "outputs": [],
   "source": [
    "df_datall.columns.to_list()"
   ]
  },
  {
   "cell_type": "code",
   "execution_count": null,
   "id": "f61c8c5e",
   "metadata": {
    "scrolled": true
   },
   "outputs": [],
   "source": [
    "df_datall.columns = [str.lower(re.sub('[^A-Za-z0-9%]', '_', col)) for col in df_datall.columns.tolist()]\n",
    "tils =[col for col in df_datall.columns if re.findall('til', col)]\n",
    "col_to_take = ['sample'] + tils\n",
    "tils_df = df_datall[col_to_take]\n",
    "tils_df"
   ]
  },
  {
   "cell_type": "markdown",
   "id": "925f2086",
   "metadata": {},
   "source": [
    "## Amaranth-PCCM Key"
   ]
  },
  {
   "cell_type": "code",
   "execution_count": null,
   "id": "b19c0b17",
   "metadata": {},
   "outputs": [],
   "source": [
    "os.listdir(source_dir)"
   ]
  },
  {
   "cell_type": "code",
   "execution_count": null,
   "id": "873e07f0",
   "metadata": {},
   "outputs": [],
   "source": [
    "keyfile = pd.read_excel(os.path.join(source_dir, os.listdir(source_dir)[1]))\n",
    "keyfile"
   ]
  },
  {
   "cell_type": "code",
   "execution_count": null,
   "id": "0fb47195",
   "metadata": {},
   "outputs": [],
   "source": [
    "keyfile['sample'] =  [re.split('\\\\.', k)[0] for k in keyfile.pccm_amaranth_hne_filename.to_list()]"
   ]
  },
  {
   "cell_type": "code",
   "execution_count": null,
   "id": "e0b73f5e",
   "metadata": {},
   "outputs": [],
   "source": [
    "keyfile['sample']"
   ]
  },
  {
   "cell_type": "code",
   "execution_count": null,
   "id": "2e3c0cb4",
   "metadata": {},
   "outputs": [],
   "source": [
    "keyfile = keyfile.filter(['sample','subtype', \n",
    "                          'lymphocytes_invasion_score_low_less_10_moderate_10_40_high_greater_40_an',\n",
    "                         'tils_score_percent',\n",
    "                         'grade_an']).rename(columns = {\n",
    "    \n",
    "'lymphocytes_invasion_score_low_less_10_moderate_10_40_high_greater_40_an': 'pathologist_tils_classification',\n",
    "'grade_an': 'pathologist_grade'})\n",
    "keyfile.dtypes"
   ]
  },
  {
   "cell_type": "code",
   "execution_count": null,
   "id": "5f894d52",
   "metadata": {},
   "outputs": [],
   "source": [
    "keyfile\n",
    "import numpy as np\n",
    "import numpy as np\n",
    "condition = [keyfile['pathologist_grade'] == 1, keyfile['pathologist_grade']  == 2, \n",
    "             keyfile['pathologist_grade']  == 3] \n",
    "choice = ['I', \"II\", 'III']\n",
    "keyfile['pathologist_grade'] = np.select(choicelist=choice, condlist=condition, default = keyfile['pathologist_grade'])\n",
    "keyfile.fillna('NA', inplace = True)"
   ]
  },
  {
   "cell_type": "code",
   "execution_count": null,
   "id": "665da445",
   "metadata": {
    "scrolled": true
   },
   "outputs": [],
   "source": [
    "dat = pd.merge(df_datall, keyfile, on = 'sample')\n",
    "dat.to_csv('pccm_amaranth_summary_and_sample_key.csv', sep = ',')\n",
    "dat"
   ]
  },
  {
   "cell_type": "code",
   "execution_count": null,
   "id": "bffed712",
   "metadata": {},
   "outputs": [],
   "source": [
    "dat.columns"
   ]
  },
  {
   "cell_type": "code",
   "execution_count": null,
   "id": "52ca34c9",
   "metadata": {},
   "outputs": [],
   "source": [
    "import seaborn as sns\n",
    "import matplotlib.pyplot as plt\n",
    "dat['intra_tumoral_tils_area_in_mm_'] = dat.intra_tumoral_tils_area_in_mm_.astype('float')\n",
    "dat['pathologist_score']  = dat.lymphocytes_invasion_score_low_less_10_moderate_10_40_high_greater_40_an\n",
    "# dat['tils_score_percent'] = dat.tils_score_percent.astype('float')\n",
    "dat\n",
    "# sns.scatterplot(dat, y ='intra_tumoral_tils_area_in_mm_', x = 'tils_score_percent',\n",
    "#                 hue = 'lymphocytes_invasion_score_low_less_10_moderate_10_40_high_greater_40_an')\n"
   ]
  },
  {
   "cell_type": "code",
   "execution_count": null,
   "id": "22bbeb2f",
   "metadata": {},
   "outputs": [],
   "source": [
    "\n",
    "tils= dat.tils_score_percent.to_list()[0:10]\n",
    "tils\n",
    "dat.columns"
   ]
  },
  {
   "cell_type": "code",
   "execution_count": null,
   "id": "4fc90e46",
   "metadata": {},
   "outputs": [],
   "source": [
    "g = sns.scatterplot(dat, x ='intra_tumoral_tils_area_in_mm_', y = 'tils_score_percent',\n",
    "                hue = 'pathologist_score')\n",
    "g.set_ylabel('amaranth_intra_tumoral_tils_area (mm)')"
   ]
  },
  {
   "cell_type": "code",
   "execution_count": null,
   "id": "9edbbdcb",
   "metadata": {},
   "outputs": [],
   "source": [
    "dat['peri_tumoral_tils_area_in_mm_'] = dat.peri_tumoral_tils_area_in_mm_.astype('float')\n",
    "g = sns.scatterplot(dat, x ='peri_tumoral_tils_area_in_mm_', y = 'tils_score_percent',\n",
    "                hue = 'pathologist_score')\n",
    "g.set_xlabel('amaranth_peri_tumoral_tils_area (mm)')"
   ]
  },
  {
   "cell_type": "code",
   "execution_count": null,
   "id": "a3967297",
   "metadata": {},
   "outputs": [],
   "source": [
    "dat['peri_tumoral_tils_area_in_mm_'] = dat.peri_tumoral_tils_area_in_mm_.astype('float')\n",
    "g = sns.barplot(dat, y ='peri_tumoral_tils_area_in_mm_', x = 'pathologist_score',\n",
    "                dodge=True, order=['Low', 'Moderate', 'High'])\n",
    "g = sns.stripplot(dat, y ='peri_tumoral_tils_area_in_mm_', x = 'pathologist_score',\n",
    "                hue = 'pathologist_score')\n",
    "g.set_xlabel('amaranth_peri_tumoral_tils_area (mm)')"
   ]
  },
  {
   "cell_type": "code",
   "execution_count": null,
   "id": "d789df56",
   "metadata": {},
   "outputs": [],
   "source": [
    "dat['stromal_tils_area_in_mm_'] = dat.stromal_tils_area_in_mm_.astype('float')\n",
    "g = sns.scatterplot(dat, x ='stromal_tils_area_in_mm_', y = 'tils_score_percent',\n",
    "                hue = 'pathologist_score')\n",
    "g.set_xlabel('amaranth_stromal_tumoral_tils_area (mm)')"
   ]
  },
  {
   "cell_type": "code",
   "execution_count": null,
   "id": "f7d8c5b1",
   "metadata": {},
   "outputs": [],
   "source": [
    "dat['til_per_mm2'] = dat.stromal_tils_area_in_mm_.astype('float')\n",
    "g = sns.scatterplot(dat, x ='til_per_mm2', y = 'tils_score_percent',\n",
    "                hue = 'pathologist_score')\n",
    "g.set_xlabel('amaranth_til_per_mm2')"
   ]
  },
  {
   "cell_type": "code",
   "execution_count": null,
   "id": "4ce8fc66",
   "metadata": {},
   "outputs": [],
   "source": [
    "dat['til_per_1000_epithelial_cells'] = dat.til_per_1000_epithelial_cells.astype('float')\n",
    "g = sns.scatterplot(dat, x ='til_per_1000_epithelial_cells', y = 'tils_score_percent',\n",
    "                hue = 'pathologist_score')\n",
    "g.set_xlabel('amaranth_til_per_1000_epithelial_cells')"
   ]
  },
  {
   "cell_type": "code",
   "execution_count": null,
   "id": "873cb741",
   "metadata": {},
   "outputs": [],
   "source": [
    "import numpy as np\n",
    "dat['log_til_per_1000_epithelial_cells'] = np.log10(dat['til_per_1000_epithelial_cells'])\n",
    "g = sns.scatterplot(dat, x ='log_til_per_1000_epithelial_cells', y = 'tils_score_percent',\n",
    "                hue = 'pathologist_score')\n",
    "g.set_xlabel('log_amaranth_til_per_1000_epithelial_cells')"
   ]
  },
  {
   "cell_type": "code",
   "execution_count": null,
   "id": "2c06137c",
   "metadata": {},
   "outputs": [],
   "source": [
    "dat['intra_tumoral_tils_tils_density'] = [re.sub('%', '', d) for d in dat.intra_tumoral_tils_tils_density.to_list()]\n",
    "dat['intra_tumoral_tils_percent'] = dat.intra_tumoral_tils_tils_density.astype('float')\n",
    "dat['intra_tumoral_tils_percent'] = dat.intra_tumoral_tils_percent.div(100)\n",
    "g = sns.scatterplot(dat, x ='intra_tumoral_tils_percent', y = 'tils_score_percent',\n",
    "                hue = 'pathologist_score')\n",
    "g.set_xlabel('amaranth_intra_tumoral_tils_tils_density')"
   ]
  },
  {
   "cell_type": "code",
   "execution_count": null,
   "id": "472620e8",
   "metadata": {},
   "outputs": [],
   "source": [
    "dat['stromal_tils_tils_density'] = [re.sub('%', '', d) for d in dat.stromal_tils_tils_density.to_list()]\n",
    "dat['stromal_tumoral_tils_percent'] = dat.stromal_tils_tils_density.astype('float')\n",
    "dat['stromal_tumoral_tils_percent'] = dat.stromal_tumoral_tils_percent.div(100)\n",
    "g = sns.scatterplot(dat, x ='stromal_tumoral_tils_percent', y = 'tils_score_percent',\n",
    "                hue = 'pathologist_score')\n",
    "g.set_xlabel('amaranth_intra_tumoral_tils_tils_density')"
   ]
  },
  {
   "cell_type": "markdown",
   "id": "0c0825a4",
   "metadata": {},
   "source": [
    "tils_df\n"
   ]
  },
  {
   "cell_type": "code",
   "execution_count": null,
   "id": "f21ecdfa",
   "metadata": {},
   "outputs": [],
   "source": [
    "tils_df.columns[1:]\n",
    "tils_df.fillna(0, inplace=True)"
   ]
  },
  {
   "cell_type": "code",
   "execution_count": null,
   "id": "ba524dc0",
   "metadata": {},
   "outputs": [],
   "source": [
    "for col in tils_df.columns[1:]:\n",
    "    dat = [d for d in tils_df[col].to_list() if re.findall('%', str(d))]\n",
    "    if len(dat)>0:\n",
    "        print(dat)\n",
    "        dat = [float(re.sub('%', '', d)) for d in tils_df[col].to_list()]\n",
    "        tils_df[col] = dat\n",
    "        print(tils_df[col].to_list())\n",
    "    else:\n",
    "        tils_df[col] = tils_df[col].astype('float')"
   ]
  },
  {
   "cell_type": "code",
   "execution_count": null,
   "id": "2ab94f56",
   "metadata": {},
   "outputs": [],
   "source": [
    "# tils_df.fillna(0, inplace=True)\n",
    "tils_df\n",
    "tils_long = tils_df.melt(value_name='measure', id_vars='sample', var_name = 'feature')\n",
    "til= pd.merge(tils_long, keyfile, on = 'sample').rename(columns = {\n",
    "    'lymphocytes_invasion_score_low_less_10_moderate_10_40_high_greater_40_an':'pathologist_score',\n",
    "'tils_score_percent' : 'pathologist_tils_score'}).sort_values('feature')\n",
    "tils_dfkey = pd.merge(tils_df, keyfile, on = 'sample').rename(columns = {\n",
    "    'lymphocytes_invasion_score_low_less_10_moderate_10_40_high_greater_40_an':'pathologist_score',\n",
    "'tils_score_percent' : 'pathologist_tils_score'})\n",
    "til"
   ]
  },
  {
   "cell_type": "code",
   "execution_count": null,
   "id": "3d0cd0f1",
   "metadata": {},
   "outputs": [],
   "source": [
    "sns.boxplot"
   ]
  },
  {
   "cell_type": "code",
   "execution_count": null,
   "id": "3b3e38b8",
   "metadata": {},
   "outputs": [],
   "source": [
    "col = 'intra_tumoral_tils_area_in_mm_'\n",
    "# g = sns.FacetGrid(tils_dfkey, col = 'feature',  hue = 'pathologist_score', col_wrap = 3, sharey=False)\n",
    "sns.boxplot(tils_dfkey, x = 'pathologist_score', y = 'intra_tumoral_tils_area_in_mm_')\n",
    "sns.stripplot(tils_dfkey, x = 'pathologist_score', y = 'intra_tumoral_tils_area_in_mm_', color='black')\n",
    "# g.map_dataframe(sns.swarmplot, x = 'pathologist_score', y = 'measure', hue = 'pathologist_score')"
   ]
  },
  {
   "cell_type": "code",
   "execution_count": null,
   "id": "f5b49723",
   "metadata": {},
   "outputs": [],
   "source": [
    "sns.swarmplot"
   ]
  },
  {
   "cell_type": "code",
   "execution_count": null,
   "id": "37a1585b",
   "metadata": {},
   "outputs": [],
   "source": [
    "sns.catplot(data=tils_dfkey, x= 'pathologist_score', y = 'measure', col='feature', col_wrap=2,\n",
    "            hue='pathologist_score', kind= 'box', sharey=False, ci = 0.95)\n",
    "sns.stripplot(data=tils_dfkey, x=\"pathologist_score\", y=\"measure\", hue = 'pathologist_score')"
   ]
  },
  {
   "cell_type": "code",
   "execution_count": null,
   "metadata": {},
   "outputs": [],
   "source": [
    "tils_longdf"
   ]
  },
  {
   "cell_type": "code",
   "execution_count": null,
   "metadata": {},
   "outputs": [],
   "source": [
    "features = til.feature.drop_duplicates().to_list()\n",
    "features"
   ]
  },
  {
   "cell_type": "code",
   "execution_count": null,
   "metadata": {},
   "outputs": [],
   "source": []
  },
  {
   "cell_type": "code",
   "execution_count": null,
   "id": "4ed17d5c",
   "metadata": {},
   "outputs": [],
   "source": [
    "features = til.feature.drop_duplicates().tolist()\n",
    "for feature in features:\n",
    "    print(feature)\n",
    "    dfplot = til.query(f'feature == \"{features[0]}\"')\n",
    "    print(dfplot.filter(['feature', 'measure']))\n",
    "    "
   ]
  },
  {
   "cell_type": "code",
   "execution_count": null,
   "metadata": {},
   "outputs": [],
   "source": [
    "features = til.feature.drop_duplicates().tolist()\n",
    "for feature in features:\n",
    "    dfplot = til.query(f'feature == \"{features[0]}\"')\n",
    "    sns.boxplot(data=dfplot, x= 'pathologist_tils_classification', y = 'measure')\n",
    "    sns.stripplot(data=dfplot, x=\"pathologist_tils_classification\", y=\"measure\", hue = 'pathologist_tils_classification', color='black')\n",
    "    plt.title(feature)\n",
    "    plt.show()\n",
    "    dfplot.head()"
   ]
  },
  {
   "cell_type": "code",
   "execution_count": null,
   "id": "04f9b493",
   "metadata": {},
   "outputs": [],
   "source": [
    "tils_df['til_per_mm2']"
   ]
  },
  {
   "cell_type": "code",
   "execution_count": null,
   "id": "555c1409",
   "metadata": {},
   "outputs": [],
   "source": []
  }
 ],
 "metadata": {
  "kernelspec": {
   "display_name": "Python 3 (ipykernel)",
   "language": "python",
   "name": "python3"
  },
  "language_info": {
   "codemirror_mode": {
    "name": "ipython",
    "version": 3
   },
   "file_extension": ".py",
   "mimetype": "text/x-python",
   "name": "python",
   "nbconvert_exporter": "python",
   "pygments_lexer": "ipython3",
   "version": "3.12.3"
  }
 },
 "nbformat": 4,
 "nbformat_minor": 5
}
